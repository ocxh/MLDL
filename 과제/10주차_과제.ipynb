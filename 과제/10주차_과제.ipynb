{
  "nbformat": 4,
  "nbformat_minor": 0,
  "metadata": {
    "colab": {
      "name": "10주차 과제.ipynb",
      "provenance": [],
      "collapsed_sections": []
    },
    "kernelspec": {
      "name": "python3",
      "display_name": "Python 3"
    },
    "language_info": {
      "name": "python"
    }
  },
  "cells": [
    {
      "cell_type": "markdown",
      "source": [
        "□ Logistic 회귀를 이용한 이진 분류\n",
        "1. dcsn과 proba의 관계\n",
        "proba의 첫 번째 열은 음성 클래스(0)에 대한 확률이고, 두 번째 열은 양성 클래스(1)에 대한 확률이다.\n",
        "dcsn은 z값을 갖는데 이를 시그모이드 함수에 통과시키면 양성 클래스일 확률이 나오게 된다.\n",
        "따라서 'dcsn == proba의 두 번째열'이 성립한다.\n",
        "\n",
        "2. predict_proba 사용하지 않고 proba 얻기"
      ],
      "metadata": {
        "id": "uQ4kPVtea32u"
      }
    },
    {
      "cell_type": "code",
      "execution_count": 15,
      "metadata": {
        "colab": {
          "base_uri": "https://localhost:8080/"
        },
        "id": "fiurt5xFa05M",
        "outputId": "ca073b75-c719-4df2-abc5-c60bed681056"
      },
      "outputs": [
        {
          "output_type": "stream",
          "name": "stdout",
          "text": [
            "[-6.02927744  3.57123907 -5.26568906 -4.24321775 -6.0607117 ]\n",
            "[[0.99759855 0.00240145]\n",
            " [0.02735183 0.97264817]\n",
            " [0.99486072 0.00513928]\n",
            " [0.98584202 0.01415798]\n",
            " [0.99767269 0.00232731]]\n",
            "\n",
            "[[0.99759855 0.00240145]\n",
            " [0.02735183 0.97264817]\n",
            " [0.99486072 0.00513928]\n",
            " [0.98584202 0.01415798]\n",
            " [0.99767269 0.00232731]]\n"
          ]
        }
      ],
      "source": [
        "import pandas as pd\n",
        "import numpy as np\n",
        "# 사용할 데이터 불러오기\n",
        "fish = pd.read_csv('https://bit.ly/fish_csv')\n",
        "fish_input = fish[['Weight','Length','Diagonal','Height','Width']].to_numpy()\n",
        "fish_target = fish['Species'].to_numpy()\n",
        "# , 학습데이터 테스트데이터 나누기\n",
        "from sklearn.model_selection import train_test_split\n",
        "train_input, test_input, train_target, test_target = train_test_split(\n",
        " fish_input, fish_target, random_state=42)\n",
        "# 특성 정규화\n",
        "from sklearn.preprocessing import StandardScaler\n",
        "ss = StandardScaler()\n",
        "ss.fit(train_input)\n",
        "train_scaled = ss.transform(train_input)\n",
        "test_scaled = ss.transform(test_input)\n",
        "# : Bream Smelt ! 이진분류를 위해 데이터 골라내기 과 만 분류해 보자\n",
        "bream_smelt_indexes = (train_target == 'Bream') | (train_target == 'Smelt')\n",
        "train_bream_smelt = train_scaled[bream_smelt_indexes]\n",
        "target_bream_smelt = train_target[bream_smelt_indexes]\n",
        "#\n",
        "from sklearn.linear_model import LogisticRegression\n",
        "lr = LogisticRegression()\n",
        "lr.fit(train_bream_smelt, target_bream_smelt)\n",
        "# decision_function 값\n",
        "dcsn = lr.decision_function(train_bream_smelt[:5])\n",
        "print(dcsn)\n",
        "# 각 클래스에 속할 확률\n",
        "proba = lr.predict_proba(train_bream_smelt[:5])\n",
        "print(proba)\n",
        "print()\n",
        "\n",
        "#predict_proba 사용하지 않고 proba 얻기\n",
        "from scipy.special import expit\n",
        "proba_1 = expit(dcsn)\n",
        "proba_0 = [1-p1 for p1 in proba_1]\n",
        "\n",
        "mk_proba = np.column_stack([proba_0, proba_1])\n",
        "print(mk_proba)"
      ]
    },
    {
      "cell_type": "markdown",
      "source": [
        "□ Logistic 회귀를 이용한 다중 분류\n",
        "3.  위 코드를 실행시켜 와 값이 일치함을 확인하시오"
      ],
      "metadata": {
        "id": "204p1xE-fjg_"
      }
    },
    {
      "cell_type": "code",
      "source": [
        "# 다중분류를 위한 모델과 학습\n",
        "lr = LogisticRegression(C=20, max_iter=1000)\n",
        "lr.fit(train_scaled, train_target)\n",
        "# 예측\n",
        "print(lr.predict(test_scaled[:3]))\n",
        "# 3 (predict_proba) 테스트 데이터 개가 각 클래스에 속할 확률\n",
        "proba = lr.predict_proba(test_scaled[:3])\n",
        "print(np.round(proba, decimals=3))\n",
        "# decision_function 값들\n",
        "decision = lr.decision_function(test_scaled[:3])\n",
        "print(np.round(decision, decimals=2))\n",
        "# softmax predict_proba 함수를 이용한 계산\n",
        "from scipy.special import softmax\n",
        "proba_sm = softmax(decision, axis=1)\n",
        "print(np.round(proba_sm, decimals=3))"
      ],
      "metadata": {
        "colab": {
          "base_uri": "https://localhost:8080/"
        },
        "id": "lURP-PrffepT",
        "outputId": "d0887d3a-b2df-467b-a410-ded93a47a245"
      },
      "execution_count": 16,
      "outputs": [
        {
          "output_type": "stream",
          "name": "stdout",
          "text": [
            "['Perch' 'Smelt' 'Pike']\n",
            "[[0.    0.014 0.841 0.    0.136 0.007 0.003]\n",
            " [0.    0.003 0.044 0.    0.007 0.946 0.   ]\n",
            " [0.    0.    0.034 0.935 0.015 0.016 0.   ]]\n",
            "[[ -6.5    1.03   5.16  -2.73   3.34   0.33  -0.63]\n",
            " [-10.86   1.93   4.77  -2.4    2.98   7.84  -4.26]\n",
            " [ -4.34  -6.23   3.17   6.49   2.36   2.42  -3.87]]\n",
            "[[0.    0.014 0.841 0.    0.136 0.007 0.003]\n",
            " [0.    0.003 0.044 0.    0.007 0.946 0.   ]\n",
            " [0.    0.    0.034 0.935 0.015 0.016 0.   ]]\n"
          ]
        }
      ]
    },
    {
      "cell_type": "markdown",
      "source": [
        "4.  다음의 교제 정의를 이용하여 을 계산하는 코드를 작성하시오"
      ],
      "metadata": {
        "id": "S6WjLoKDf9Eu"
      }
    },
    {
      "cell_type": "code",
      "source": [
        "# 다중분류를 위한 모델과 학습\n",
        "lr = LogisticRegression(C=20, max_iter=1000)\n",
        "lr.fit(train_scaled, train_target)\n",
        "# 예측\n",
        "#print(lr.predict(test_scaled[:3]))\n",
        "# 3 (predict_proba) 테스트 데이터 개가 각 클래스에 속할 확률\n",
        "proba = lr.predict_proba(test_scaled[:3])\n",
        "#print(np.round(proba, decimals=3))\n",
        "# decision_function 값들\n",
        "decision = lr.decision_function(test_scaled[:3])\n",
        "print(np.round(decision, decimals=2))\n",
        "# softmax predict_proba 함수를 이용한 계산\n",
        "from scipy.special import softmax\n",
        "proba_sm = softmax(decision, axis=1)\n",
        "print(np.round(proba_sm, decimals=3))\n",
        "\n",
        "#===============\n",
        "#직접 proba_sm 구하기\n",
        "e_all = [np.exp(s) for s in decision] #모두 e^zi로 전환\n",
        "\n",
        "e_sum = [sum(e_all[i]) for i in range(3)] #esum 구하기\n",
        "\n",
        "mk_proba_sm = [] #si값들\n",
        "for i in range(3):\n",
        "  for j in range(7):\n",
        "    mk_proba_sm.append(e_all[i][j]/e_sum[i])\n",
        "\n",
        "print(\"직접 계산한 proba_sm\")\n",
        "new_proba_sm = np.round(mk_proba_sm, decimals=3).reshape(3,7)\n",
        "print(new_proba_sm)"
      ],
      "metadata": {
        "colab": {
          "base_uri": "https://localhost:8080/"
        },
        "id": "x19fgBVTf_sk",
        "outputId": "427bd59d-9422-46f2-e9c3-63f16946fc02"
      },
      "execution_count": 35,
      "outputs": [
        {
          "output_type": "stream",
          "name": "stdout",
          "text": [
            "[[ -6.5    1.03   5.16  -2.73   3.34   0.33  -0.63]\n",
            " [-10.86   1.93   4.77  -2.4    2.98   7.84  -4.26]\n",
            " [ -4.34  -6.23   3.17   6.49   2.36   2.42  -3.87]]\n",
            "[[0.    0.014 0.841 0.    0.136 0.007 0.003]\n",
            " [0.    0.003 0.044 0.    0.007 0.946 0.   ]\n",
            " [0.    0.    0.034 0.935 0.015 0.016 0.   ]]\n",
            "직접 계산한 proba_sm\n",
            "[[0.    0.014 0.841 0.    0.136 0.007 0.003]\n",
            " [0.    0.003 0.044 0.    0.007 0.946 0.   ]\n",
            " [0.    0.    0.034 0.935 0.015 0.016 0.   ]]\n"
          ]
        }
      ]
    }
  ]
}